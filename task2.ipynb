{
 "cells": [
  {
   "cell_type": "code",
   "execution_count": 5,
   "metadata": {},
   "outputs": [],
   "source": [
    "import numpy as np\n",
    "\n",
    "def to_ground_event():\n",
    "    value_set = [1, 0]\n",
    "    return np.random.choice(a=value_set, size=1, p=[0.001, 0.999])[0]\n",
    "\n",
    "\n",
    "def roll_dice():\n",
    "    dice_values = [1, 2, 3, 4, 5, 6]\n",
    "    return np.random.choice(a=dice_values, size=1)[0]\n",
    "\n",
    "\n",
    "def play_game():\n",
    "    n = 0\n",
    "    level = 0\n",
    "    while n <= 100:\n",
    "        if to_ground_event() == 1:\n",
    "            level = 0\n",
    "        else:\n",
    "            value = roll_dice()\n",
    "            if value in [1, 2]:\n",
    "                level = level - 1\n",
    "                if level < 0:\n",
    "                    level = 0\n",
    "            elif value in [3, 4, 5]:\n",
    "                level = level + 1\n",
    "            elif value == 6:\n",
    "                second_value = roll_dice()\n",
    "                level = level + second_value\n",
    "        n = n + 1\n",
    "    if level >= 60:\n",
    "        return True\n",
    "\n",
    "    return False"
   ]
  },
  {
   "cell_type": "code",
   "execution_count": 18,
   "metadata": {},
   "outputs": [],
   "source": [
    "\n",
    "def run(size):\n",
    "    win = 0\n",
    "    for i in range(size):\n",
    "        if play_game():\n",
    "            win += 1\n",
    "\n",
    "    p = win / size\n",
    "    return p\n",
    "\n",
    "\n"
   ]
  },
  {
   "cell_type": "code",
   "execution_count": 20,
   "metadata": {},
   "outputs": [
    {
     "name": "stdout",
     "output_type": "stream",
     "text": [
      "0.7\n"
     ]
    }
   ],
   "source": [
    "print(run(10))"
   ]
  },
  {
   "cell_type": "code",
   "execution_count": 21,
   "metadata": {},
   "outputs": [
    {
     "name": "stdout",
     "output_type": "stream",
     "text": [
      "0.8\n"
     ]
    }
   ],
   "source": [
    "print(run(100))"
   ]
  },
  {
   "cell_type": "code",
   "execution_count": 22,
   "metadata": {},
   "outputs": [
    {
     "name": "stdout",
     "output_type": "stream",
     "text": [
      "0.773\n"
     ]
    }
   ],
   "source": [
    "print(run(1000))"
   ]
  },
  {
   "cell_type": "code",
   "execution_count": 23,
   "metadata": {},
   "outputs": [
    {
     "name": "stdout",
     "output_type": "stream",
     "text": [
      "0.7876\n"
     ]
    }
   ],
   "source": [
    "print(run(10000))"
   ]
  },
  {
   "cell_type": "code",
   "execution_count": 24,
   "metadata": {},
   "outputs": [
    {
     "name": "stdout",
     "output_type": "stream",
     "text": [
      "0.78694\n"
     ]
    }
   ],
   "source": [
    "print(run(100000))"
   ]
  }
 ],
 "metadata": {
  "interpreter": {
   "hash": "4950a621ca8dbe919be2d5eef5279a3b94042d0ab49226e0e63e1276ca2aa67c"
  },
  "kernelspec": {
   "display_name": "Python 3.7.9 64-bit ('dev': pyenv)",
   "language": "python",
   "name": "python3"
  },
  "language_info": {
   "codemirror_mode": {
    "name": "ipython",
    "version": 3
   },
   "file_extension": ".py",
   "mimetype": "text/x-python",
   "name": "python",
   "nbconvert_exporter": "python",
   "pygments_lexer": "ipython3",
   "version": "3.7.9"
  },
  "orig_nbformat": 4
 },
 "nbformat": 4,
 "nbformat_minor": 2
}
